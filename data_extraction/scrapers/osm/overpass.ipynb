{
 "metadata": {
  "language_info": {
   "codemirror_mode": {
    "name": "ipython",
    "version": 3
   },
   "file_extension": ".py",
   "mimetype": "text/x-python",
   "name": "python",
   "nbconvert_exporter": "python",
   "pygments_lexer": "ipython3",
   "version": "3.8.5-final"
  },
  "orig_nbformat": 2,
  "kernelspec": {
   "name": "python3",
   "display_name": "Python 3"
  }
 },
 "nbformat": 4,
 "nbformat_minor": 2,
 "cells": [
  {
   "cell_type": "code",
   "execution_count": 43,
   "metadata": {},
   "outputs": [],
   "source": [
    "# based off of https://gis.stackexchange.com/questions/361978/overpass-api-python-wrapper-incomplete-polygon-error\n",
    "# This process gets all tourism OSM features for Vancouver (nodes, relations and ways) and stores them in a geojson file\n",
    "\n",
    "import requests\n",
    "from osmtogeojson import osmtogeojson"
   ]
  },
  {
   "cell_type": "code",
   "execution_count": 47,
   "metadata": {},
   "outputs": [],
   "source": [
    "# (49.195,-123.27,49.315,-123.020) is the bounding box of Vancouver\n",
    "query = \"\"\"\n",
    "[out:json][timeout:25];\n",
    "(node[tourism](49.195,-123.27,49.315,-123.020);\n",
    "way[tourism](49.195,-123.27,49.315,-123.020);\n",
    "relation[tourism](49.195,-123.27,49.315,-123.020);\n",
    ");\n",
    "out body;\n",
    ">;\n",
    "out skel qt;\n",
    "\"\"\""
   ]
  },
  {
   "cell_type": "code",
   "execution_count": 48,
   "metadata": {},
   "outputs": [],
   "source": [
    "url = \"http://overpass-api.de/api/interpreter\"\n",
    "\n",
    "r = requests.get(url, params={'data': query})\n",
    "result = osmtogeojson.process_osm_json(r.json())"
   ]
  },
  {
   "cell_type": "code",
   "execution_count": 49,
   "metadata": {},
   "outputs": [],
   "source": [
    "with open(\"../../data/tourism_vancouver.geojson\",mode=\"w\") as f:\n",
    "  geojson.dump(result,f)"
   ]
  },
  {
   "cell_type": "code",
   "execution_count": null,
   "metadata": {},
   "outputs": [],
   "source": []
  }
 ]
}