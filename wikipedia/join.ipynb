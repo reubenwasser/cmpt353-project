{
 "metadata": {
  "language_info": {
   "codemirror_mode": {
    "name": "ipython",
    "version": 3
   },
   "file_extension": ".py",
   "mimetype": "text/x-python",
   "name": "python",
   "nbconvert_exporter": "python",
   "pygments_lexer": "ipython3",
   "version": "3.8.5-final"
  },
  "orig_nbformat": 2,
  "kernelspec": {
   "name": "python3",
   "display_name": "Python 3"
  }
 },
 "nbformat": 4,
 "nbformat_minor": 2,
 "cells": [
  {
   "cell_type": "code",
   "execution_count": 2,
   "metadata": {},
   "outputs": [],
   "source": [
    "import pandas as pd\n",
    "import geopandas as gpd"
   ]
  },
  {
   "cell_type": "code",
   "execution_count": 56,
   "metadata": {},
   "outputs": [],
   "source": [
    "wiki = pd.read_csv(\"wikipedia.csv\")\n",
    "osm = gpd.read_file(\"../osm/code/tourism_vancouver.geojson\")\n",
    "\n",
    "osm_rename = osm.rename(columns={\"name\": \"title\"})\n"
   ]
  },
  {
   "cell_type": "code",
   "execution_count": 57,
   "metadata": {},
   "outputs": [],
   "source": [
    "osm_wiki = osm_rename.join(wiki.set_index('title'), on='title')"
   ]
  },
  {
   "cell_type": "code",
   "execution_count": 61,
   "metadata": {},
   "outputs": [],
   "source": [
    "# Filter out by \"uminteresting\" tourist features #\n",
    "# ################################################\n",
    "\n",
    "# I've decided to keep all: museum, attraction, gallery, theme_park, train_car, Botanical_garden and aquarium features\n",
    "# Meanwhile excluding hotels, viewpoints and artwork based on if there is a wikipedia article for that feature\n",
    "\n",
    "#List of features that we are interested in\n",
    "\n",
    "tourism_list = ['museum', 'attraction', 'gallery', 'hotel', 'viewpoint', 'artwork', 'theme_park', 'train_car', 'Botanical_garden', 'aquarium']\n",
    "osm_wiki_filtered = osm_wiki[osm_wiki.tourism.isin(tourism_list)]\n",
    "\n",
    "# Remove any features which don't contain a title\n",
    "osm_wiki_filter_notitle = osm_wiki_filtered[osm_wiki_filtered.title.notnull()]\n",
    "\n",
    "# Identify features demmed \"uninteresting\" by virtue of having a wikipedia page\n",
    "# Amount of interest can be gauged by number of words contained in wikipedia article and can be adjusted accordingly\n",
    "wordcount_threshold = 1\n",
    "\n",
    "#hotels\n",
    "osm_wiki_bad_hotels = osm_wiki_filter_notitle[(osm_wiki_filter_notitle.tourism == 'hotel') & ( (osm_wiki_filter_notitle.content.str.count(' ') < wordcount_threshold) |(osm_wiki_filter_notitle.content.isnull()) )] \n",
    "\n",
    "#viewpoints\n",
    "osm_wiki_bad_viewpoints = osm_wiki_filter_notitle[(osm_wiki_filter_notitle.tourism == 'viewpoint') & ( (osm_wiki_filter_notitle.content.str.count(' ') < wordcount_threshold) |(osm_wiki_filter_notitle.content.isnull()) )] \n",
    "\n",
    "#artwork\n",
    "osm_wiki_bad_artwork = osm_wiki_filter_notitle[(osm_wiki_filter_notitle.tourism == 'artwork') & ( (osm_wiki_filter_notitle.content.str.count(' ') < wordcount_threshold) |(osm_wiki_filter_notitle.content.isnull()) )] "
   ]
  },
  {
   "cell_type": "code",
   "execution_count": 67,
   "metadata": {},
   "outputs": [],
   "source": [
    "# Remove the identified \"uninteresting\" features from dataframe\n",
    "osm_wiki_filter_hotels = osm_wiki_filter_notitle.drop(osm_wiki_bad_hotels.index)\n",
    "osm_wiki_filter_viewpoints = osm_wiki_filter_hotels.drop(osm_wiki_bad_viewpoints.index)\n",
    "osm_wiki_final = osm_wiki_filter_viewpoints.drop(osm_wiki_bad_artwork.index)\n"
   ]
  },
  {
   "cell_type": "code",
   "execution_count": 69,
   "metadata": {},
   "outputs": [],
   "source": [
    "osm_wiki_final.to_file(\"best_destinations_vancouver.geojson\", driver='GeoJSON')\n"
   ]
  },
  {
   "cell_type": "code",
   "execution_count": null,
   "metadata": {},
   "outputs": [],
   "source": []
  }
 ]
}